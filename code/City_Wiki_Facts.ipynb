{
 "cells": [
  {
   "cell_type": "code",
   "execution_count": 52,
   "metadata": {},
   "outputs": [],
   "source": [
    "import pandas as pd\n",
    "import numpy as np"
   ]
  },
  {
   "cell_type": "code",
   "execution_count": 60,
   "metadata": {},
   "outputs": [
    {
     "data": {
      "text/html": [
       "<div>\n",
       "<style scoped>\n",
       "    .dataframe tbody tr th:only-of-type {\n",
       "        vertical-align: middle;\n",
       "    }\n",
       "\n",
       "    .dataframe tbody tr th {\n",
       "        vertical-align: top;\n",
       "    }\n",
       "\n",
       "    .dataframe thead th {\n",
       "        text-align: right;\n",
       "    }\n",
       "</style>\n",
       "<table border=\"1\" class=\"dataframe\">\n",
       "  <thead>\n",
       "    <tr style=\"text-align: right;\">\n",
       "      <th></th>\n",
       "      <th>City</th>\n",
       "      <th>Wiki_String</th>\n",
       "    </tr>\n",
       "  </thead>\n",
       "  <tbody>\n",
       "    <tr>\n",
       "      <th>0</th>\n",
       "      <td>Birmingham</td>\n",
       "      <td>Birmingham,_Alabama</td>\n",
       "    </tr>\n",
       "    <tr>\n",
       "      <th>1</th>\n",
       "      <td>Huntsville</td>\n",
       "      <td>Huntsville,_Alabama</td>\n",
       "    </tr>\n",
       "    <tr>\n",
       "      <th>2</th>\n",
       "      <td>Montgomery</td>\n",
       "      <td>Montgomery,_Alabama</td>\n",
       "    </tr>\n",
       "    <tr>\n",
       "      <th>3</th>\n",
       "      <td>Mobile</td>\n",
       "      <td>Mobile,_Alabama</td>\n",
       "    </tr>\n",
       "    <tr>\n",
       "      <th>4</th>\n",
       "      <td>Tuscaloosa</td>\n",
       "      <td>Tuscaloosa,_Alabama</td>\n",
       "    </tr>\n",
       "  </tbody>\n",
       "</table>\n",
       "</div>"
      ],
      "text/plain": [
       "          City          Wiki_String\n",
       "0  Birmingham   Birmingham,_Alabama\n",
       "1  Huntsville   Huntsville,_Alabama\n",
       "2  Montgomery   Montgomery,_Alabama\n",
       "3      Mobile       Mobile,_Alabama\n",
       "4  Tuscaloosa   Tuscaloosa,_Alabama"
      ]
     },
     "execution_count": 60,
     "metadata": {},
     "output_type": "execute_result"
    }
   ],
   "source": [
    "cities_df = pd.read_csv(\"Project_2/cities.csv\")\n",
    "cities_df.head()"
   ]
  },
  {
   "cell_type": "code",
   "execution_count": 61,
   "metadata": {},
   "outputs": [],
   "source": [
    "w_string=np.asarray(cities_df['Wiki_String'])\n",
    "cities = np.asarray(cities_df['City'])"
   ]
  },
  {
   "cell_type": "code",
   "execution_count": 62,
   "metadata": {},
   "outputs": [],
   "source": [
    "count = 0"
   ]
  },
  {
   "cell_type": "code",
   "execution_count": 63,
   "metadata": {},
   "outputs": [],
   "source": [
    "cdf = pd.DataFrame()\n",
    "col_list = (\"City\", \"Named_For\", \"Settled\", \"Founded\", \"Incorporated\", \"Mayor\", \"Land_Area\", \"Water_Area\", \"Elevation\", \"Time_Zone\")\n"
   ]
  },
  {
   "cell_type": "code",
   "execution_count": 64,
   "metadata": {},
   "outputs": [],
   "source": [
    "for city in w_string:\n",
    "    \n",
    "    url = 'https://en.wikipedia.org/wiki/' + city\n",
    "    \n",
    "    City_Name = cities[count]\n",
    "    \n",
    "    tables = pd.read_html(url)\n",
    "    df = tables[0]\n",
    "    df.columns = [\"Index\", \"Data\"]\n",
    "    \n",
    "    Named_temp = df.set_index(\"Index\").filter(like='Named for', axis=0)\n",
    "    if (Named_temp.size) == 1:\n",
    "        Named = Named_temp.iloc[0,0]\n",
    "    else:\n",
    "        Named = 0\n",
    "    \n",
    "    Settle_temp = df.set_index(\"Index\").filter(like='ettled', axis=0)\n",
    "    if (Settle_temp.size) == 1:\n",
    "        Settle = Settle_temp.iloc[0,0]\n",
    "    else:\n",
    "        Settle = 0\n",
    "    \n",
    "    Found_temp = df.set_index(\"Index\").filter(like='Founded', axis=0)\n",
    "    if (Found_temp.size) == 1:\n",
    "        Found = Found_temp.iloc[0,0]\n",
    "    else:\n",
    "        Found = 0\n",
    "    \n",
    "    Corp_temp = df.set_index(\"Index\").filter(like='Incorporated', axis=0)\n",
    "    if (Corp_temp.size) == 1:\n",
    "        Corp = Corp_temp.iloc[0,0]\n",
    "    else:\n",
    "        Corp = 0\n",
    "    \n",
    "    Mayor_temp = df.set_index(\"Index\").filter(like='Mayor', axis=0)\n",
    "    if (Mayor_temp.size) == 1:\n",
    "        Mayor = Mayor_temp.iloc[0,0]\n",
    "    else:\n",
    "        Mayor = 0\n",
    "    \n",
    "    Land_temp = df.set_index(\"Index\").filter(like='Land', axis=0)\n",
    "    if (Land_temp.size) == 1:\n",
    "        Land = Land_temp.iloc[0,0]\n",
    "    else:\n",
    "        Land = 0\n",
    "        \n",
    "    Water_temp = df.set_index(\"Index\").filter(like='Water', axis=0)\n",
    "    if (Water_temp.size) == 1:\n",
    "        Water = Water_temp.iloc[0,0]\n",
    "    else:\n",
    "        Water = 0\n",
    "    \n",
    "    Elv_temp = df.set_index(\"Index\").filter(like='Elevation', axis=0)\n",
    "    if (Elv_temp.size) == 1:\n",
    "        Elv = Elv_temp.iloc[0,0]\n",
    "    else:\n",
    "        Elv = 0\n",
    "        \n",
    "    Time_temp = df.set_index(\"Index\").filter(like='Time zone', axis=0)\n",
    "    if (Time_temp.size) == 1:\n",
    "        Time = Time_temp.iloc[0,0]\n",
    "    else:\n",
    "        Time = 0\n",
    "    \n",
    "    city_data = (City_Name, Named, Settle, Found, Corp, Mayor, Land, Water, Elv, Time)\n",
    "    \n",
    "    new_df = pd.DataFrame(data=[city_data], columns = col_list)\n",
    "    cdf = cdf.append(new_df)\n",
    "    \n",
    "    count = count+1\n",
    "        "
   ]
  },
  {
   "cell_type": "code",
   "execution_count": 66,
   "metadata": {},
   "outputs": [],
   "source": [
    "output_data_file = \"Project_2/city_facts.csv\"\n",
    "cdf.to_csv(output_data_file, index=False, header=True)"
   ]
  },
  {
   "cell_type": "code",
   "execution_count": null,
   "metadata": {},
   "outputs": [],
   "source": []
  }
 ],
 "metadata": {
  "kernelspec": {
   "display_name": "Python 3",
   "language": "python",
   "name": "python3"
  },
  "language_info": {
   "codemirror_mode": {
    "name": "ipython",
    "version": 3
   },
   "file_extension": ".py",
   "mimetype": "text/x-python",
   "name": "python",
   "nbconvert_exporter": "python",
   "pygments_lexer": "ipython3",
   "version": "3.7.6"
  }
 },
 "nbformat": 4,
 "nbformat_minor": 4
}
